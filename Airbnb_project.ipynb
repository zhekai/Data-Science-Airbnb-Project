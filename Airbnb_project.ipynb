{
 "cells": [
  {
   "cell_type": "markdown",
   "metadata": {},
   "source": [
    "### Dive into the Boston and Seattle Airbnb dataset\n",
    "\n",
    "#### CRISP-DM Process\n",
    "\n",
    "**Business Understanding**: Here, we try to understand what's the driving factors that determine the Airbnb rental price for Boston and Seattle housing. In this project, we mainly would like to understand the following three quesitons. \n",
    "\n",
    "1. Is there significant price difference in Airbnb housting between Boston and Seattle ?\n",
    "2. What's the major driving factors to predict airbnb housing price for Boston and Seattle respectively ?\n",
    "3. What are the top factors that people needs to most when they consider Airbnb housing? \n",
    "\n",
    "**Data Understanding**：Datasets from both Boston and Seattle are investigated before data processing   \n",
    "**Prepare Data**: Data cleanning, Processing NaN inputs  \n",
    "**Data Modeling**: Train the model and find the corresponding parameters to predict housing price  \n",
    "**Model Validation** Test the model and evaluate the effectiveness of the model\n"
   ]
  },
  {
   "cell_type": "code",
   "execution_count": 2,
   "metadata": {},
   "outputs": [],
   "source": [
    "import numpy as np\n",
    "import pandas as pd\n",
    "import matplotlib.pyplot as plt\n",
    "from sklearn.linear_model import LinearRegression\n",
    "from sklearn.model_selection import train_test_split\n",
    "from sklearn.metrics import r2_score, mean_squared_error\n",
    "import seaborn as sns\n",
    "%matplotlib inline \n",
    "\n",
    "listings_Boston = pd.read_csv(\"boston_listings.csv\")\n",
    "listings_Seattle = pd.read_csv(\"seattle_listings.csv\")\n",
    "\n",
    "\n",
    "\n",
    "#listings_Boston.columns[~listings_Boston.columns.isin(listings_Seattle)]\n",
    "listings_Boston.drop(['listing_url', 'scrape_id','last_scraped', 'name', 'summary', 'space',\n",
    "                     'description','neighborhood_overview', 'notes','transit', 'access', 'interaction','house_rules',\n",
    "                     'thumbnail_url', 'medium_url', 'picture_url', 'xl_picture_url', 'host_url','host_name','host_location', 'host_about',\n",
    "                      'host_thumbnail_url', 'host_picture_url','city', 'state', 'smart_location', 'smart_location', 'country_code', 'country', 'first_review', 'last_review', 'id', 'host_verifications', \n",
    "               'host_id', 'neighbourhood', 'calendar_last_scraped', 'market','street', 'host_since'], axis = 1, inplace = True)\n",
    "\n"
   ]
  },
  {
   "cell_type": "code",
   "execution_count": 3,
   "metadata": {},
   "outputs": [],
   "source": [
    "# Dropping NaN with ratio more than 75%\n",
    "dropping_index = listings_Boston.isnull().sum() / listings_Boston.shape[0] > 0.75\n",
    "listings_Boston.drop(listings_Boston.columns[dropping_index], axis = 1, inplace = True)\n"
   ]
  },
  {
   "cell_type": "code",
   "execution_count": 4,
   "metadata": {},
   "outputs": [],
   "source": [
    "#takes care some data type issues\n",
    "listings_Boston['host_response_rate'] = listings_Boston['host_response_rate'].replace('%','', regex = True).astype(float)\n",
    "listings_Boston['host_acceptance_rate'] = listings_Boston['host_acceptance_rate'].replace('%','', regex = True).astype(float)\n",
    "listings_Boston['cleaning_fee'] = listings_Boston['cleaning_fee'].replace('\\$', '',regex = True).astype(float)\n",
    "listings_Boston['price'] = listings_Boston['price'].replace({'\\$': '', ',':''}, regex = True).astype(float)\n",
    "listings_Boston['extra_people'] = listings_Boston['extra_people'].replace({'\\$': '', ',':''}, regex = True).astype(float)\n",
    "listings_Boston['security_deposit'] = listings_Boston['security_deposit'].replace({'\\$': '', ',':''}, regex = True).astype(float)"
   ]
  },
  {
   "cell_type": "code",
   "execution_count": 5,
   "metadata": {},
   "outputs": [],
   "source": [
    "if type(listings_Boston.zipcode[0]) == str:\n",
    "        listings_Boston.zipcode = listings_Boston.zipcode.str[:5].apply(lambda x: float(x))"
   ]
  },
  {
   "cell_type": "code",
   "execution_count": 44,
   "metadata": {},
   "outputs": [],
   "source": [
    "amenities = listings_Boston['amenities'].map(lambda d: [amenity.replace('\"', \"\").replace(\"{\", \"\").replace(\"}\", \"\") for amenity in d.split(\",\")])"
   ]
  },
  {
   "cell_type": "code",
   "execution_count": 45,
   "metadata": {},
   "outputs": [
    {
     "data": {
      "text/plain": [
       "0       [TV, Wireless Internet, Kitchen, Free Parking ...\n",
       "1       [TV, Internet, Wireless Internet, Air Conditio...\n",
       "2       [TV, Cable TV, Wireless Internet, Air Conditio...\n",
       "3       [TV, Internet, Wireless Internet, Air Conditio...\n",
       "4       [Internet, Wireless Internet, Air Conditioning...\n",
       "                              ...                        \n",
       "3580    [Internet, Wireless Internet, Air Conditioning...\n",
       "3581    [TV, Internet, Wireless Internet, Air Conditio...\n",
       "3582    [translation missing: en.hosting_amenity_49, t...\n",
       "3583    [Kitchen, Gym, Family/Kid Friendly, Washer, Dr...\n",
       "3584    [Wireless Internet, Kitchen, Essentials, trans...\n",
       "Name: amenities, Length: 3585, dtype: object"
      ]
     },
     "execution_count": 45,
     "metadata": {},
     "output_type": "execute_result"
    }
   ],
   "source": [
    "amenities"
   ]
  },
  {
   "cell_type": "code",
   "execution_count": 52,
   "metadata": {},
   "outputs": [
    {
     "data": {
      "text/plain": [
       "{'',\n",
       " '24-Hour Check-in',\n",
       " 'Air Conditioning',\n",
       " 'Breakfast',\n",
       " 'Buzzer/Wireless Intercom',\n",
       " 'Cable TV',\n",
       " 'Carbon Monoxide Detector',\n",
       " 'Cat(s)',\n",
       " 'Dog(s)',\n",
       " 'Doorman',\n",
       " 'Dryer',\n",
       " 'Elevator in Building',\n",
       " 'Essentials',\n",
       " 'Family/Kid Friendly',\n",
       " 'Fire Extinguisher',\n",
       " 'First Aid Kit',\n",
       " 'Free Parking on Premises',\n",
       " 'Free Parking on Street',\n",
       " 'Gym',\n",
       " 'Hair Dryer',\n",
       " 'Hangers',\n",
       " 'Heating',\n",
       " 'Hot Tub',\n",
       " 'Indoor Fireplace',\n",
       " 'Internet',\n",
       " 'Iron',\n",
       " 'Kitchen',\n",
       " 'Laptop Friendly Workspace',\n",
       " 'Lock on Bedroom Door',\n",
       " 'Other pet(s)',\n",
       " 'Paid Parking Off Premises',\n",
       " 'Pets Allowed',\n",
       " 'Pets live on this property',\n",
       " 'Pool',\n",
       " 'Safety Card',\n",
       " 'Shampoo',\n",
       " 'Smoke Detector',\n",
       " 'Smoking Allowed',\n",
       " 'Suitable for Events',\n",
       " 'TV',\n",
       " 'Washer',\n",
       " 'Washer / Dryer',\n",
       " 'Wheelchair Accessible',\n",
       " 'Wireless Internet',\n",
       " 'translation missing: en.hosting_amenity_49',\n",
       " 'translation missing: en.hosting_amenity_50'}"
      ]
     },
     "execution_count": 52,
     "metadata": {},
     "output_type": "execute_result"
    }
   ],
   "source": [
    "\n",
    "possible_amenities = set([item for sublist in amenities for item in sublist])\n",
    "possible_amenities"
   ]
  },
  {
   "cell_type": "code",
   "execution_count": null,
   "metadata": {},
   "outputs": [],
   "source": [
    "del possible_amenities[1]\n",
    "print(\"There are {} amenities in total.\".format(len(possible_amenities)))\n",
    "mlb = MultiLabelBinarizer()\n",
    "amenities_result = pd.DataFrame(mlb.fit_transform(df['amenities']),columns=mlb.classes_, index=df.index)\n",
    "df2 = pd.concat([df, amenities_result], axis=1, sort = False)\n",
    "df2.drop(['amenities'], axis = 1, inplace = True)"
   ]
  }
 ],
 "metadata": {
  "kernelspec": {
   "display_name": "Python 3",
   "language": "python",
   "name": "python3"
  },
  "language_info": {
   "codemirror_mode": {
    "name": "ipython",
    "version": 3
   },
   "file_extension": ".py",
   "mimetype": "text/x-python",
   "name": "python",
   "nbconvert_exporter": "python",
   "pygments_lexer": "ipython3",
   "version": "3.7.4"
  }
 },
 "nbformat": 4,
 "nbformat_minor": 2
}
